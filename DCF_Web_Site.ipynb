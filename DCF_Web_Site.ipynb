{
  "nbformat": 4,
  "nbformat_minor": 0,
  "metadata": {
    "colab": {
      "provenance": [],
      "authorship_tag": "ABX9TyMH+VBL51BiDuVox66Z/gFs",
      "include_colab_link": true
    },
    "kernelspec": {
      "name": "python3",
      "display_name": "Python 3"
    },
    "language_info": {
      "name": "python"
    }
  },
  "cells": [
    {
      "cell_type": "markdown",
      "metadata": {
        "id": "view-in-github",
        "colab_type": "text"
      },
      "source": [
        "<a href=\"https://colab.research.google.com/github/samurai-architect/avocado/blob/master/DCF_Web_Site.ipynb\" target=\"_parent\"><img src=\"https://colab.research.google.com/assets/colab-badge.svg\" alt=\"Open In Colab\"/></a>"
      ]
    },
    {
      "cell_type": "code",
      "execution_count": 1,
      "metadata": {
        "colab": {
          "base_uri": "https://localhost:8080/"
        },
        "id": "qfi68yPJwQDP",
        "outputId": "72d67a29-5e0d-4f3a-e5eb-857a9f32fbd0"
      },
      "outputs": [
        {
          "output_type": "stream",
          "name": "stdout",
          "text": [
            "Collecting colab-env\n",
            "  Downloading colab-env-0.2.0.tar.gz (4.7 kB)\n",
            "  Preparing metadata (setup.py) ... \u001b[?25l\u001b[?25hdone\n",
            "Collecting python-dotenv<1.0,>=0.10.0 (from colab-env)\n",
            "  Downloading python_dotenv-0.21.1-py3-none-any.whl (19 kB)\n",
            "Building wheels for collected packages: colab-env\n",
            "  Building wheel for colab-env (setup.py) ... \u001b[?25l\u001b[?25hdone\n",
            "  Created wheel for colab-env: filename=colab_env-0.2.0-py3-none-any.whl size=3805 sha256=ddd8fe1e7fdd8d1fe09546a3c162d2b28b5889e04190139218a20033be8683c7\n",
            "  Stored in directory: /root/.cache/pip/wheels/ae/36/4f/466c2cd4db5d08f317893a920c4a0f58a81459ee3bdb136d35\n",
            "Successfully built colab-env\n",
            "Installing collected packages: python-dotenv, colab-env\n",
            "Successfully installed colab-env-0.2.0 python-dotenv-0.21.1\n",
            "Collecting quickfs\n",
            "  Downloading quickfs-0.1.1-py3-none-any.whl (10 kB)\n",
            "Installing collected packages: quickfs\n",
            "Successfully installed quickfs-0.1.1\n",
            "Collecting pyngrok\n",
            "  Downloading pyngrok-6.0.0.tar.gz (681 kB)\n",
            "\u001b[2K     \u001b[90m━━━━━━━━━━━━━━━━━━━━━━━━━━━━━━━━━━━━━━━\u001b[0m \u001b[32m681.2/681.2 kB\u001b[0m \u001b[31m5.6 MB/s\u001b[0m eta \u001b[36m0:00:00\u001b[0m\n",
            "\u001b[?25h  Preparing metadata (setup.py) ... \u001b[?25l\u001b[?25hdone\n",
            "Requirement already satisfied: PyYAML in /usr/local/lib/python3.10/dist-packages (from pyngrok) (6.0.1)\n",
            "Building wheels for collected packages: pyngrok\n",
            "  Building wheel for pyngrok (setup.py) ... \u001b[?25l\u001b[?25hdone\n",
            "  Created wheel for pyngrok: filename=pyngrok-6.0.0-py3-none-any.whl size=19867 sha256=54d739960705d6802eb3a32796123ec26dcc00d507840a673da52d1d05e6fcb8\n",
            "  Stored in directory: /root/.cache/pip/wheels/5c/42/78/0c3d438d7f5730451a25f7ac6cbf4391759d22a67576ed7c2c\n",
            "Successfully built pyngrok\n",
            "Installing collected packages: pyngrok\n",
            "Successfully installed pyngrok-6.0.0\n",
            "Collecting dash\n",
            "  Downloading dash-2.13.0-py3-none-any.whl (10.4 MB)\n",
            "\u001b[2K     \u001b[90m━━━━━━━━━━━━━━━━━━━━━━━━━━━━━━━━━━━━━━━━\u001b[0m \u001b[32m10.4/10.4 MB\u001b[0m \u001b[31m20.6 MB/s\u001b[0m eta \u001b[36m0:00:00\u001b[0m\n",
            "\u001b[?25hRequirement already satisfied: Flask<2.3.0,>=1.0.4 in /usr/local/lib/python3.10/dist-packages (from dash) (2.2.5)\n",
            "Collecting Werkzeug<2.3.0 (from dash)\n",
            "  Downloading Werkzeug-2.2.3-py3-none-any.whl (233 kB)\n",
            "\u001b[2K     \u001b[90m━━━━━━━━━━━━━━━━━━━━━━━━━━━━━━━━━━━━━━\u001b[0m \u001b[32m233.6/233.6 kB\u001b[0m \u001b[31m19.3 MB/s\u001b[0m eta \u001b[36m0:00:00\u001b[0m\n",
            "\u001b[?25hRequirement already satisfied: plotly>=5.0.0 in /usr/local/lib/python3.10/dist-packages (from dash) (5.15.0)\n",
            "Collecting dash-html-components==2.0.0 (from dash)\n",
            "  Downloading dash_html_components-2.0.0-py3-none-any.whl (4.1 kB)\n",
            "Collecting dash-core-components==2.0.0 (from dash)\n",
            "  Downloading dash_core_components-2.0.0-py3-none-any.whl (3.8 kB)\n",
            "Collecting dash-table==5.0.0 (from dash)\n",
            "  Downloading dash_table-5.0.0-py3-none-any.whl (3.9 kB)\n",
            "Requirement already satisfied: typing-extensions>=4.1.1 in /usr/local/lib/python3.10/dist-packages (from dash) (4.7.1)\n",
            "Requirement already satisfied: requests in /usr/local/lib/python3.10/dist-packages (from dash) (2.31.0)\n",
            "Collecting retrying (from dash)\n",
            "  Downloading retrying-1.3.4-py3-none-any.whl (11 kB)\n",
            "Collecting ansi2html (from dash)\n",
            "  Downloading ansi2html-1.8.0-py3-none-any.whl (16 kB)\n",
            "Requirement already satisfied: nest-asyncio in /usr/local/lib/python3.10/dist-packages (from dash) (1.5.7)\n",
            "Requirement already satisfied: setuptools in /usr/local/lib/python3.10/dist-packages (from dash) (67.7.2)\n",
            "Requirement already satisfied: Jinja2>=3.0 in /usr/local/lib/python3.10/dist-packages (from Flask<2.3.0,>=1.0.4->dash) (3.1.2)\n",
            "Requirement already satisfied: itsdangerous>=2.0 in /usr/local/lib/python3.10/dist-packages (from Flask<2.3.0,>=1.0.4->dash) (2.1.2)\n",
            "Requirement already satisfied: click>=8.0 in /usr/local/lib/python3.10/dist-packages (from Flask<2.3.0,>=1.0.4->dash) (8.1.7)\n",
            "Requirement already satisfied: tenacity>=6.2.0 in /usr/local/lib/python3.10/dist-packages (from plotly>=5.0.0->dash) (8.2.3)\n",
            "Requirement already satisfied: packaging in /usr/local/lib/python3.10/dist-packages (from plotly>=5.0.0->dash) (23.1)\n",
            "Requirement already satisfied: MarkupSafe>=2.1.1 in /usr/local/lib/python3.10/dist-packages (from Werkzeug<2.3.0->dash) (2.1.3)\n",
            "Requirement already satisfied: charset-normalizer<4,>=2 in /usr/local/lib/python3.10/dist-packages (from requests->dash) (3.2.0)\n",
            "Requirement already satisfied: idna<4,>=2.5 in /usr/local/lib/python3.10/dist-packages (from requests->dash) (3.4)\n",
            "Requirement already satisfied: urllib3<3,>=1.21.1 in /usr/local/lib/python3.10/dist-packages (from requests->dash) (2.0.4)\n",
            "Requirement already satisfied: certifi>=2017.4.17 in /usr/local/lib/python3.10/dist-packages (from requests->dash) (2023.7.22)\n",
            "Requirement already satisfied: six>=1.7.0 in /usr/local/lib/python3.10/dist-packages (from retrying->dash) (1.16.0)\n",
            "Installing collected packages: dash-table, dash-html-components, dash-core-components, Werkzeug, retrying, ansi2html, dash\n",
            "  Attempting uninstall: Werkzeug\n",
            "    Found existing installation: Werkzeug 2.3.7\n",
            "    Uninstalling Werkzeug-2.3.7:\n",
            "      Successfully uninstalled Werkzeug-2.3.7\n",
            "Successfully installed Werkzeug-2.2.3 ansi2html-1.8.0 dash-2.13.0 dash-core-components-2.0.0 dash-html-components-2.0.0 dash-table-5.0.0 retrying-1.3.4\n"
          ]
        }
      ],
      "source": [
        "!pip install colab-env --upgrade\n",
        "!pip install quickfs\n",
        "!pip install pyngrok\n",
        "!pip install dash"
      ]
    },
    {
      "cell_type": "code",
      "source": [
        "import colab_env\n",
        "import os\n",
        "import pandas as pd\n",
        "import plotly.express as px\n",
        "import threading\n",
        "from quickfs import QuickFS\n",
        "from dash import Dash, html, dcc, callback, Output, State, Input, dash_table\n",
        "from pyngrok import ngrok"
      ],
      "metadata": {
        "colab": {
          "base_uri": "https://localhost:8080/",
          "height": 34
        },
        "id": "AAHPLVACxu4h",
        "outputId": "110c156e-c30a-450f-a63b-823b0c613e3e"
      },
      "execution_count": 2,
      "outputs": [
        {
          "output_type": "stream",
          "name": "stdout",
          "text": [
            "Mounted at /content/gdrive\n"
          ]
        }
      ]
    },
    {
      "cell_type": "code",
      "source": [
        "!ngrok authtoken $NGROK_AUTH_TOKEN"
      ],
      "metadata": {
        "colab": {
          "base_uri": "https://localhost:8080/"
        },
        "id": "ZyXS8fnIfynj",
        "outputId": "48eecaa2-4824-4b06-ea9f-db5b6136ae0e"
      },
      "execution_count": 3,
      "outputs": [
        {
          "output_type": "stream",
          "name": "stdout",
          "text": [
            "Authtoken saved to configuration file: /root/.ngrok2/ngrok.yml\n"
          ]
        }
      ]
    },
    {
      "cell_type": "markdown",
      "source": [
        "If you want to organize your code into modules you need to update the path to import from Google Drive:\n",
        "\n",
        "```\n",
        "# import sys\n",
        "sys.path.append('/content/gdrive/My Drive')\n",
        "```\n",
        "Or\n",
        "```\n",
        "# import sys\n",
        "sys.path.append('/content/gdrive/My Drive/myproject/mylibrary')\n",
        "```"
      ],
      "metadata": {
        "id": "6X8DaNavbKkq"
      }
    },
    {
      "cell_type": "code",
      "source": [
        "\n"
      ],
      "metadata": {
        "id": "yCCT9al2Wwwg"
      },
      "execution_count": 4,
      "outputs": []
    },
    {
      "cell_type": "code",
      "source": [],
      "metadata": {
        "id": "J0vB8Kwk-Qmo"
      },
      "execution_count": null,
      "outputs": []
    },
    {
      "cell_type": "code",
      "source": [
        "import logging\n",
        "from dash import Dash, html, dcc, callback, Output, State, Input, dash_table\n",
        "\n",
        "def get_qfs_financials(symbol):\n",
        "  logging.debug(\"entering get_qfs_financials() for symbol \" + symbol)\n",
        "  api_key = os.getenv(\"QFS_API_KEY\")\n",
        "  client = QuickFS(api_key)\n",
        "  # get the full data for GOOGL\n",
        "  logging.debug(\"calling qfs:get_data_full for symbol: \" + symbol)\n",
        "  qfs_data = pd.DataFrame(client.get_data_full(symbol=symbol))\n",
        "  logging.debug(\"returned from qfs:get_data_full for symbol: \" + symbol)\n",
        "  return qfs_data\n",
        "\n",
        "def get_qfs_transposed(qfs_data, time_period):\n",
        "  logging.debug(\"entering get_qfs_transformed()\")\n",
        "  if time_period == \"annual\" or time_period == \"quarterly\":\n",
        "    logging.debug(\"calling pop_other_qfs_metrics()\")\n",
        "    other_metrics = pop_other_qfs_metrics(qfs_data, time_period)\n",
        "    logging.debug(\"returned from pop_other_qfs_metrics()\")\n",
        "    period = pd.DataFrame(qfs_data[\"financials\"][time_period])\n",
        "    first_column = period.columns.values[0]\n",
        "    period.set_index(first_column,inplace=True)\n",
        "    period_t = period.transpose()\n",
        "    return period_t.rename(columns = {'index':first_column})\n",
        "\n",
        "def pop_other_qfs_metrics(stock_data, time_period):\n",
        "  other_metrics = {}\n",
        "  if time_period == \"annual\" or time_period == \"quarterly\":\n",
        "    other_metrics[\"preliminary\"] = stock_data[\"financials\"][time_period].pop(\"preliminary\")\n",
        "    other_metrics[\"gross_margin_median\"] = stock_data[\"financials\"][time_period].pop(\"gross_margin_median\")\n",
        "    other_metrics[\"pretax_margin_median\"] = stock_data[\"financials\"][time_period].pop(\"pretax_margin_median\")\n",
        "    other_metrics[\"operating_income_margin_median\"] = stock_data[\"financials\"][time_period].pop(\"operating_income_margin_median\")\n",
        "    other_metrics[\"fcf_margin_median\"] = stock_data[\"financials\"][time_period].pop(\"fcf_margin_median\")\n",
        "    other_metrics[\"roa_median\"] = stock_data[\"financials\"][time_period].pop(\"roa_median\")\n",
        "    other_metrics[\"roe_median\"] = stock_data[\"financials\"][time_period].pop(\"roe_median\")\n",
        "    other_metrics[\"roic_median\"] = stock_data[\"financials\"][time_period].pop(\"roic_median\")\n",
        "    other_metrics[\"assets_to_equity_median\"] = stock_data[\"financials\"][time_period].pop(\"assets_to_equity_median\")\n",
        "    other_metrics[\"debt_to_assets_median\"] = stock_data[\"financials\"][time_period].pop(\"debt_to_assets_median\")\n",
        "    other_metrics[\"debt_to_equity_median\"] = stock_data[\"financials\"][time_period].pop(\"debt_to_equity_median\")\n",
        "    other_metrics[\"roic_5yr_avg\"] = stock_data[\"financials\"][time_period].pop(\"roic_5yr_avg\")\n",
        "  return other_metrics\n",
        "\n",
        "logger = logging.getLogger()\n",
        "logger.setLevel(logging.DEBUG)\n",
        "logging.debug(\"staring...\")\n",
        "df = pd.read_csv('https://raw.githubusercontent.com/plotly/datasets/master/solar.csv')\n",
        "app = Dash(__name__)\n",
        "port = 8050\n",
        "\n",
        "my_output = html.Div()\n",
        "\n",
        "app.layout = html.Div([\n",
        "                        dcc.Input(id='stock-symbol-state', type=\"text\", value='AAPL'),\n",
        "                        html.Button('Submit!', id='submit-button-state'),\n",
        "                        html.Br(),\n",
        "                        my_output\n",
        "              ])\n",
        "\n",
        "@callback(\n",
        "    Output(my_output, 'children'),\n",
        "    Input('submit-button-state', 'n_clicks'),\n",
        "    State('stock-symbol-state', 'value')\n",
        ")\n",
        "def update_output(n_clicks, symbol):\n",
        "  logging.debug(\"entering the callback...\")\n",
        "  if n_clicks is None:\n",
        "      raise PreventUpdate\n",
        "  else:\n",
        "      logging.debug('calling get_qfs_transposed from the callback...')\n",
        "      transposed_data =  get_qfs_transposed(get_qfs_financials(symbol), \"annual\")\n",
        "      logging.debug('returned from get_qfs_transposed...')\n",
        "\n",
        "      return    dash_table.DataTable(\n",
        "                          data=transposed_data.to_dict('records'),\n",
        "                          columns=[{\"name\": i, \"id\": i} for i in transposed_data.columns],\n",
        "                          id='3'\n",
        "                        )\n",
        "\n",
        "# Open a ngrok tunnel to the HTTP server\n",
        "public_url = ngrok.connect(port).public_url\n",
        "print(\" * ngrok tunnel \\\"{}\\\" -> \\\"http://127.0.0.1:{}\\\"\".format(public_url, port))\n",
        "\n",
        "#app.config[\"BASE_URL\"] = public_url\n",
        "\n",
        "if __name__ == '__main__':\n",
        "    # set up logging to file\n",
        "    logfile = 'example.log'\n",
        "    loglevel = logging.DEBUG\n",
        "    logging.basicConfig(filename=logfile, filemode='a', level=loglevel)\n",
        "    logging.info('\\n-------------------- START --------------------')\n",
        "    #threading.Thread(target=app.run(jupyter_server_url= public_url), kwargs={\"use_reloader\": False}).start()\n",
        "    app.run(jupyter_server_url= public_url, debug=True)"
      ],
      "metadata": {
        "colab": {
          "base_uri": "https://localhost:8080/",
          "height": 1000
        },
        "id": "GMOiVk7nysTx",
        "outputId": "dfe3ca29-bb38-4cd4-9260-87cc9ba9fe5d"
      },
      "execution_count": 54,
      "outputs": [
        {
          "output_type": "stream",
          "name": "stderr",
          "text": [
            "DEBUG:root:staring...\n",
            "INFO:pyngrok.ngrok:Opening tunnel named: http-8050-f567c302-0830-4d48-a64b-0cbc8f6c6de1\n",
            "DEBUG:pyngrok.process:Removing stale process for \"ngrok_path\" /usr/local/lib/python3.10/dist-packages/pyngrok/bin/ngrok\n",
            "DEBUG:pyngrok.process:ngrok process starting with PID: 31583\n",
            "INFO:pyngrok.process.ngrok:t=2023-08-30T01:08:49+0000 lvl=info msg=\"no configuration paths supplied\"\n",
            "WARNING:pyngrok.process.ngrok:t=2023-08-30T01:08:49+0000 lvl=warn msg=\"ngrok config file found at legacy location, move to XDG location\" xdg_path=/root/.config/ngrok/ngrok.yml legacy_path=/root/.ngrok2/ngrok.yml\n",
            "INFO:pyngrok.process.ngrok:t=2023-08-30T01:08:49+0000 lvl=info msg=\"using configuration at default config path\" path=/root/.ngrok2/ngrok.yml\n",
            "INFO:pyngrok.process.ngrok:t=2023-08-30T01:08:49+0000 lvl=info msg=\"open config file\" path=/root/.ngrok2/ngrok.yml err=nil\n",
            "INFO:pyngrok.process.ngrok:t=2023-08-30T01:08:49+0000 lvl=info msg=\"starting web service\" obj=web addr=127.0.0.1:4040 allow_hosts=[]\n",
            "INFO:pyngrok.process.ngrok:t=2023-08-30T01:08:49+0000 lvl=info msg=\"client session established\" obj=tunnels.session obj=csess id=27b8d18e7fa1\n",
            "INFO:pyngrok.process.ngrok:t=2023-08-30T01:08:49+0000 lvl=info msg=\"tunnel session started\" obj=tunnels.session\n",
            "DEBUG:pyngrok.process:ngrok process has started with API URL: http://127.0.0.1:4040\n",
            "DEBUG:pyngrok.process:Monitor thread will be started\n",
            "INFO:pyngrok.process.ngrok:t=2023-08-30T01:08:49+0000 lvl=info msg=start pg=/api/tunnels id=09cd49e3ad7ea580\n",
            "DEBUG:pyngrok.ngrok:Creating tunnel with options: {'name': 'http-8050-f567c302-0830-4d48-a64b-0cbc8f6c6de1', 'addr': '8050', 'proto': 'http'}\n",
            "DEBUG:pyngrok.ngrok:Making POST request to http://127.0.0.1:4040/api/tunnels with data: b'{\"name\": \"http-8050-f567c302-0830-4d48-a64b-0cbc8f6c6de1\", \"addr\": \"8050\", \"proto\": \"http\"}'\n",
            "INFO:pyngrok.process.ngrok:t=2023-08-30T01:08:49+0000 lvl=info msg=end pg=/api/tunnels id=09cd49e3ad7ea580 status=200 dur=480.613µs\n",
            "INFO:pyngrok.process.ngrok:t=2023-08-30T01:08:49+0000 lvl=info msg=start pg=/api/tunnels id=65185e1d7df36a45\n",
            "INFO:pyngrok.process.ngrok:t=2023-08-30T01:08:49+0000 lvl=info msg=end pg=/api/tunnels id=65185e1d7df36a45 status=200 dur=122.254µs\n",
            "INFO:pyngrok.process.ngrok:t=2023-08-30T01:08:49+0000 lvl=info msg=start pg=/api/tunnels id=c5ccd283743247ef\n",
            "INFO:pyngrok.process.ngrok:t=2023-08-30T01:08:49+0000 lvl=info msg=\"started tunnel\" obj=tunnels name=http-8050-f567c302-0830-4d48-a64b-0cbc8f6c6de1 addr=http://localhost:8050 url=https://f999-35-196-8-72.ngrok-free.app\n",
            "INFO:pyngrok.process.ngrok:t=2023-08-30T01:08:49+0000 lvl=info msg=end pg=/api/tunnels id=c5ccd283743247ef status=201 dur=38.001596ms\n",
            "DEBUG:pyngrok.ngrok:Response 201: {\"name\":\"http-8050-f567c302-0830-4d48-a64b-0cbc8f6c6de1\",\"ID\":\"e5c06799f07131c5da17e145714a06b3\",\"uri\":\"/api/tunnels/http-8050-f567c302-0830-4d48-a64b-0cbc8f6c6de1\",\"public_url\":\"https://f999-35-196-8-72.ngrok-free.app\",\"proto\":\"https\",\"config\":{\"addr\":\"http://localhost:8050\",\"inspect\":true},\"metrics\":{\"conns\":{\"count\":0,\"gauge\":0,\"rate1\":0,\"rate5\":0,\"rate15\":0,\"p50\":0,\"p90\":0,\"p95\":0,\"p99\":0},\"http\":{\"count\":0,\"rate1\":0,\"rate5\":0,\"rate15\":0,\"p50\":0,\"p90\":0,\"p95\":0,\"p99\":0}}}\n",
            "INFO:root:\n",
            "-------------------- START --------------------\n"
          ]
        },
        {
          "output_type": "stream",
          "name": "stdout",
          "text": [
            " * ngrok tunnel \"https://f999-35-196-8-72.ngrok-free.app\" -> \"http://127.0.0.1:8050\"\n"
          ]
        },
        {
          "output_type": "stream",
          "name": "stderr",
          "text": [
            "DEBUG:urllib3.connectionpool:Starting new HTTP connection (1): 127.0.0.1:8050\n",
            "DEBUG:urllib3.connectionpool:http://127.0.0.1:8050 \"GET /_alive_b0c7b2e0-2920-45be-ad58-2964122e70f8 HTTP/1.1\" 200 5\n"
          ]
        },
        {
          "output_type": "display_data",
          "data": {
            "text/plain": [
              "<IPython.core.display.Javascript object>"
            ],
            "application/javascript": [
              "(async (port, path, width, height, cache, element) => {\n",
              "    if (!google.colab.kernel.accessAllowed && !cache) {\n",
              "      return;\n",
              "    }\n",
              "    element.appendChild(document.createTextNode(''));\n",
              "    const url = await google.colab.kernel.proxyPort(port, {cache});\n",
              "    const iframe = document.createElement('iframe');\n",
              "    iframe.src = new URL(path, url).toString();\n",
              "    iframe.height = height;\n",
              "    iframe.width = width;\n",
              "    iframe.style.border = 0;\n",
              "    iframe.allow = [\n",
              "        'accelerometer',\n",
              "        'autoplay',\n",
              "        'camera',\n",
              "        'clipboard-read',\n",
              "        'clipboard-write',\n",
              "        'gyroscope',\n",
              "        'magnetometer',\n",
              "        'microphone',\n",
              "        'serial',\n",
              "        'usb',\n",
              "        'xr-spatial-tracking',\n",
              "    ].join('; ');\n",
              "    element.appendChild(iframe);\n",
              "  })(8050, \"/\", \"100%\", 650, false, window.element)"
            ]
          },
          "metadata": {}
        }
      ]
    },
    {
      "cell_type": "code",
      "source": [
        "!killall ngrok"
      ],
      "metadata": {
        "colab": {
          "base_uri": "https://localhost:8080/"
        },
        "id": "m4eLWXGTjrdt",
        "outputId": "2736986b-9f8a-409c-99bc-d1d1dd070681"
      },
      "execution_count": 55,
      "outputs": [
        {
          "output_type": "stream",
          "name": "stderr",
          "text": [
            "INFO:pyngrok.process.ngrok:t=2023-08-30T01:11:49+0000 lvl=info msg=\"received stop request\" obj=app stopReq=\"{err:<nil> restart:false}\"\n",
            "INFO:pyngrok.process.ngrok:t=2023-08-30T01:11:49+0000 lvl=info msg=\"session closing\" obj=tunnels.session err=nil\n"
          ]
        }
      ]
    }
  ]
}